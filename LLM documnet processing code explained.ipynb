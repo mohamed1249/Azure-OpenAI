{
 "cells": [
  {
   "cell_type": "markdown",
   "metadata": {},
   "source": [
    "## importing:"
   ]
  },
  {
   "cell_type": "code",
   "execution_count": 1,
   "metadata": {},
   "outputs": [],
   "source": [
    "#Note: The openai-python library support for Azure OpenAI is in preview.\n",
    "#Note: This code sample requires OpenAI Python library version 1.0.0 or higher.\n",
    "from openai import AzureOpenAI\n",
    "from PyPDF2 import PdfReader\n",
    "import os"
   ]
  },
  {
   "cell_type": "markdown",
   "metadata": {},
   "source": [
    "## setting OpenAI key we got from Azure:"
   ]
  },
  {
   "cell_type": "code",
   "execution_count": 2,
   "metadata": {},
   "outputs": [],
   "source": [
    "os.environ[\"AZURE_OPENAI_KEY\"] = ''"
   ]
  },
  {
   "cell_type": "markdown",
   "metadata": {},
   "source": [
    "Libraries and API Key explaination:\n",
    "\n",
    "The code imports libraries for interacting with Azure OpenAI (openai), reading PDFs (PyPDF2), and accessing environment variables (os).\n",
    "An API key (AZURE_OPENAI_KEY) is set from an environment variable for secure access to Azure OpenAI."
   ]
  },
  {
   "cell_type": "markdown",
   "metadata": {},
   "source": [
    "## defining a function tp extract PDF file page contents with a maximunm number of tokens = 20000 to prevint exceeding the token count limit of the used LLM. "
   ]
  },
  {
   "cell_type": "code",
   "execution_count": 3,
   "metadata": {},
   "outputs": [],
   "source": [
    "def extract_pdf_pages(pdf_file_path, max_tokens = 20000):\n",
    "    pdf_pages = []\n",
    "    tokens_count = 0\n",
    "    with open(pdf_file_path, 'rb') as pdf_file:\n",
    "        reader = PdfReader(pdf_file)\n",
    "        for page_number in range(len(reader.pages)):\n",
    "            pdf_page_info = {\n",
    "                'information': reader.pages[page_number].extract_text(),\n",
    "                'source_file_name': os.path.basename(pdf_file_path),\n",
    "                'page_number': page_number + 1\n",
    "            }\n",
    "            tokens_count += len(pdf_page_info['information'].split())\n",
    "            if tokens_count >= max_tokens:\n",
    "                break\n",
    "            pdf_pages.append(pdf_page_info)\n",
    "    return pdf_pages"
   ]
  },
  {
   "cell_type": "markdown",
   "metadata": {},
   "source": [
    "extract_pdf_pages function explaination:\n",
    "\n",
    "- This function reads a PDF file (pdf_file_path) and extracts information from each page.\n",
    "- It iterates through all pages, extracting text content, filename, and page number for each page.\n",
    "- It keeps track of the total number of words encountered (tokens_count).\n",
    "- It stops processing pages if the total word count exceeds a limit (max_tokens).\n",
    "- The extracted information for each page is stored in a dictionary and appended to a list (pdf_pages)."
   ]
  },
  {
   "cell_type": "markdown",
   "metadata": {},
   "source": [
    "## Connecting to Azure OpenAI:"
   ]
  },
  {
   "cell_type": "code",
   "execution_count": 4,
   "metadata": {},
   "outputs": [],
   "source": [
    "client = AzureOpenAI(\n",
    "  azure_endpoint = \"https://rag-openai-aueast.openai.azure.com/\", \n",
    "  api_key=os.getenv(\"AZURE_OPENAI_KEY\"),  \n",
    "  api_version=\"2024-02-15-preview\"\n",
    ")"
   ]
  },
  {
   "cell_type": "markdown",
   "metadata": {},
   "source": [
    "Azure OpenAI Client:\n",
    "\n",
    "An AzureOpenAI client is created, specifying the endpoint URL (azure_endpoint), API key (api_key), and API version (api_version)."
   ]
  },
  {
   "cell_type": "markdown",
   "metadata": {},
   "source": [
    "## Creating the message variable (for sammarization):"
   ]
  },
  {
   "cell_type": "code",
   "execution_count": 5,
   "metadata": {},
   "outputs": [],
   "source": [
    "message_text = [{\"role\":\"system\",\"content\":\"You are an AI assistant that helps people sammarize documents.\"},\n",
    "                {\"role\":\"user\",\"content\":str(extract_pdf_pages('telecom-development.pdf'))}]"
   ]
  },
  {
   "cell_type": "markdown",
   "metadata": {},
   "source": [
    "Chat Message Construction:\n",
    "\n",
    "- A list (message_text) is created to represent a chat conversation.\n",
    "- The first element represents a system message informing the user that the AI assistant helps with document tagging.\n",
    "- The second element represents a user message containing the extracted information from the PDF (telecom-development.pdf) using the extract_pdf_pages function. The output of the function is likely a list of dictionaries, converted to a string here."
   ]
  },
  {
   "cell_type": "markdown",
   "metadata": {},
   "source": [
    "Sending the message to the LLM (GPT-4):"
   ]
  },
  {
   "cell_type": "code",
   "execution_count": 6,
   "metadata": {},
   "outputs": [],
   "source": [
    "completion = client.chat.completions.create(\n",
    "  model=\"gpt4model\", # model = \"deployment_name\"\n",
    "  messages = message_text,\n",
    "  temperature=0.7,\n",
    "  max_tokens=800,\n",
    "  top_p=0.95,\n",
    "  frequency_penalty=0,\n",
    "  presence_penalty=0,\n",
    "  stop=None\n",
    ")"
   ]
  },
  {
   "cell_type": "markdown",
   "metadata": {},
   "source": [
    "Calling Azure OpenAI for Chat Completion:\n",
    "\n",
    "- The chat.completions.create method is called on the Azure OpenAI client to generate a response based on the provided conversation (message_text).\n",
    "- Several parameters are set to influence the generated response:\n",
    "- model: The AI model to use for generating text (here, \"gpt4model\").\n",
    "- temperature: Controls the randomness of the generated text (0.7 for some randomness).\n",
    "- max_tokens: Limits the total number of words generated (800 words).\n",
    "- top_p: Influences the sampling process to favor more likely continuations (0.95 for favoring high probability sentences).\n",
    "- frequency_penalty and presence_penalty: Not explicitly set here, but can penalize repetitive phrases or overusing certain words.\n",
    "- stop: No explicit stopping sequence is provided, allowing the model to generate a response until it reaches the max_tokens limit."
   ]
  },
  {
   "cell_type": "markdown",
   "metadata": {},
   "source": [
    "## Showing the Output:"
   ]
  },
  {
   "cell_type": "code",
   "execution_count": 7,
   "metadata": {},
   "outputs": [
    {
     "data": {
      "text/plain": [
       "'The document discusses the role of Project Finance in facilitating Telecommunication Infrastructure Development in Newly Industrializing Countries. It highlights that traditionally, infrastructure development has been facilitated through public sector financing. However, due to economic deficiencies and poor financial management of resources, many newly industrializing countries are seeking foreign capital as a primary source of funding for infrastructure development. \\n\\nThe document discusses various financing methods, including direct government expenditure, general-obligation bonds, subsidization, and concessions to state-owned enterprises. However, these methods may have certain limitations. For example, bonds require public approval, while revenue and debt limits may inhibit infrastructure investment by government agencies.\\n\\nThe document also discusses the role of the World Bank and other multilateral financial institutions in providing debt financing. However, it notes that these institutions often require countries to conform their economic policies to standards that promote efficient economic development.\\n\\nIn addition, the document discusses the trend towards privatization and foreign investment in the telecommunications sector. It highlights that the privatization of telecommunication services has been driven by technological advances and new market opportunities.\\n\\nThe document also discusses the use of project financing schemes, focusing on the Build-Operate-Transfer (BOT) model. It notes that BOT projects are advantageous for both host governments and private investors. They allow governments to attract private capital investment without guaranteeing payment of project costs and without complete liberalization of their economic markets.\\n\\nFinally, the document discusses some legal and regulatory issues surrounding the use of BOT agreements and explains various contractual protections that potential investors and host governments may seek when utilizing such arrangements.'"
      ]
     },
     "execution_count": 7,
     "metadata": {},
     "output_type": "execute_result"
    }
   ],
   "source": [
    "completion.choices[0].message.content"
   ]
  },
  {
   "cell_type": "markdown",
   "metadata": {},
   "source": [
    "### Tagging:"
   ]
  },
  {
   "cell_type": "code",
   "execution_count": 8,
   "metadata": {},
   "outputs": [
    {
     "data": {
      "text/plain": [
       "'- Telecommunications\\n- Infrastructure Development\\n- Project Finance\\n- Newly-Industrializing Countries\\n- Law\\n- Regulation\\n- Concession Agreements\\n- BOT Model\\n- Private Sector Participation\\n- Public Sector Financing\\n- Foreign Investment\\n- International Telecommunication Union\\n- Federal Communications Commission\\n- Limited Liability Company\\n- Joint Venture\\n- Construction Agreement\\n- Limited Partnership\\n- Technology Transfer\\n- Risk Allocation\\n- Contractual Assurances\\n- National Regulatory Methods\\n- Bilateral and Multilateral Treaties\\n- Sovereign Immunity\\n- Concessionary Arrangements\\n- Limited Recourse Financing\\n- Taxation\\n- Equity Investment\\n- Debt Financing\\n- Technology Adoption\\n- Limited Liability Company\\n- Risk Management\\n- Regulatory Framework\\n- International Law\\n- Economic Development\\n- Telecommunications Industry\\n- Privatization\\n- State Ownership\\n- State Monopolies\\n- Telecommunications Services\\n- Communications Act of 1934\\n- International Maritime Act of 1978\\n- International Cooperation\\n- Nationalization\\n- Expropriation\\n- Legal Risks\\n- Contractual Issues\\n- Legal Nature of Concessionary Agreements\\n- Regulatory Framework\\n- Bilateral and Multilateral Treaties\\n- International Telecommunication Union\\n- Federal Communications Commission\\n- Contractual Assurances\\n- Concession Agreement\\n- Project Company Structure\\n- Consortium Agreement\\n- Project Financing and Loan Agreements.'"
      ]
     },
     "execution_count": 8,
     "metadata": {},
     "output_type": "execute_result"
    }
   ],
   "source": [
    "message_text = [{\"role\":\"system\",\"content\":\"You are an AI assistant that helps people tag documents, you only provide a list of tags with no other context or caption.\"},\n",
    "                {\"role\":\"user\",\"content\":str(extract_pdf_pages('telecom-development.pdf'))}]\n",
    "\n",
    "completion = client.chat.completions.create(\n",
    "  model=\"gpt4model\", # model = \"deployment_name\"\n",
    "  messages = message_text,\n",
    "  temperature=0.7,\n",
    "  max_tokens=800,\n",
    "  top_p=0.95,\n",
    "  frequency_penalty=0,\n",
    "  presence_penalty=0,\n",
    "  stop=None\n",
    ")\n",
    "\n",
    "completion.choices[0].message.content"
   ]
  },
  {
   "cell_type": "markdown",
   "metadata": {},
   "source": [
    "### Classifying:"
   ]
  },
  {
   "cell_type": "code",
   "execution_count": 9,
   "metadata": {},
   "outputs": [
    {
     "data": {
      "text/plain": [
       "'\"Legal Document\"'"
      ]
     },
     "execution_count": 9,
     "metadata": {},
     "output_type": "execute_result"
    }
   ],
   "source": [
    "message_text = [{\"role\":\"system\",\"content\":\"You are an AI assistant that helps people classify documents, you only provide a classification label with no other context or caption.\"},\n",
    "                {\"role\":\"user\",\"content\":str(extract_pdf_pages('telecom-development.pdf'))}]\n",
    "\n",
    "completion = client.chat.completions.create(\n",
    "  model=\"gpt4model\", # model = \"deployment_name\"\n",
    "  messages = message_text,\n",
    "  temperature=0.7,\n",
    "  max_tokens=800,\n",
    "  top_p=0.95,\n",
    "  frequency_penalty=0,\n",
    "  presence_penalty=0,\n",
    "  stop=None\n",
    ")\n",
    "\n",
    "completion.choices[0].message.content"
   ]
  },
  {
   "cell_type": "markdown",
   "metadata": {},
   "source": [
    "## Future work:\n",
    "Now you may see that the output response isn't as clear or direct as we expected, we expected the model to provide a list all the tags for the document sent, however, it responded with a description about the doncument fisrt and then it started to list the tags of it, an issue like this is very easy to solve by tuning the prompt of the model, but let's leave that for the future work, as this was just an example of how we can deal with Azure OpenAI document handling."
   ]
  }
 ],
 "metadata": {
  "kernelspec": {
   "display_name": "Python 3",
   "language": "python",
   "name": "python3"
  },
  "language_info": {
   "codemirror_mode": {
    "name": "ipython",
    "version": 3
   },
   "file_extension": ".py",
   "mimetype": "text/x-python",
   "name": "python",
   "nbconvert_exporter": "python",
   "pygments_lexer": "ipython3",
   "version": "3.9.4"
  }
 },
 "nbformat": 4,
 "nbformat_minor": 2
}
